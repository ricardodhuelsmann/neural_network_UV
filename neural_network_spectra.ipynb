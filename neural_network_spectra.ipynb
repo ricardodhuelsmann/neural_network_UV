{
  "nbformat": 4,
  "nbformat_minor": 0,
  "metadata": {
    "colab": {
      "name": "neural_network_spectra.ipynb",
      "provenance": [],
      "collapsed_sections": []
    },
    "kernelspec": {
      "name": "python3",
      "display_name": "Python 3"
    },
    "accelerator": "GPU"
  },
  "cells": [
    {
      "cell_type": "code",
      "metadata": {
        "id": "HIXeqqjlZ3wW"
      },
      "source": [
        "'''Importar bibliotecas necessárias'''\n",
        "import numpy as np\n",
        "import matplotlib.pyplot as pp\n",
        "from tensorflow import keras\n",
        "from keras.models import Sequential\n",
        "from keras.layers.core import Dense"
      ],
      "execution_count": null,
      "outputs": []
    },
    {
      "cell_type": "code",
      "metadata": {
        "id": "3JzcwGFMEztL",
        "colab": {
          "base_uri": "https://localhost:8080/"
        },
        "outputId": "a0e9a3b4-026b-42be-cd39-dfb56d20616f"
      },
      "source": [
        "'''Carregar dados de arquivo CSV, e separar fração para treino e teste'''\n",
        "input_data = np.genfromtxt('input_noiseless.csv', delimiter=';')\n",
        "output_data = np.genfromtxt('output_noiseless.csv', delimiter=';')\n",
        "print(\"Tamanho de dados de entrada: \", len(input_data))\n",
        "print(\"Tamanho de dados de saída: \", len(output_data))\n",
        "x_train = input_data[:100]\n",
        "x_test = input_data[100:]\n",
        "print(\"Tamanho de matriz de treino: \", len(x_train))\n",
        "print(\"Tamanho de matriz de teste: \", len(x_test))\n",
        "print(\"Tamanho total de dados de treino: \", x_train.size)\n",
        "print(\"Tamanho total de dados de teste: \", x_test.size)\n",
        "y_train = output_data[:100]\n",
        "y_test = output_data[100:]\n",
        "input_shape_size = int(x_train.size/len(x_train))\n",
        "print(input_shape_size)"
      ],
      "execution_count": null,
      "outputs": [
        {
          "output_type": "stream",
          "name": "stdout",
          "text": [
            "Tamanho de dados de entrada:  120\n",
            "Tamanho de dados de saída:  120\n",
            "Tamanho de matriz de treino:  100\n",
            "Tamanho de matriz de teste:  20\n",
            "Tamanho total de dados de treino:  20100\n",
            "Tamanho total de dados de teste:  4020\n",
            "201\n"
          ]
        }
      ]
    },
    {
      "cell_type": "code",
      "metadata": {
        "id": "73c-fnMVr7TB"
      },
      "source": [
        "'''Configurar parâmetros da rede neural'''\n",
        "# change these values to experiment\n",
        "epochs = 200         # number of times the full data trains the network params\n",
        "batch_size = 100    # the amount of data which goes into the network at once\n",
        "num_neurons = 25     # number of neurons required in middle layer"
      ],
      "execution_count": null,
      "outputs": []
    },
    {
      "cell_type": "code",
      "metadata": {
        "id": "2lFU4s6GiDNW"
      },
      "source": [
        "''' Criar modelo de rede neural, adicionando camadas, definindo número de neuros, ativação, medidas de erro e otimização'''\n",
        "def get_model():\n",
        "  model = Sequential()\n",
        "  model.add(Dense(num_neurons, input_shape=(input_shape_size, ),  activation='relu'))\n",
        "  model.add(Dense(num_neurons, input_shape=(num_neurons,), activation='relu'))\n",
        "  model.add(Dense(num_neurons, input_shape=(num_neurons,), activation='relu'))\n",
        "  model.add(Dense(2))\n",
        "  print(model.summary())\n",
        "  model.compile(loss='mean_squared_error', optimizer='adam', metrics=['accuracy'])\n",
        "  return model\n",
        "  "
      ],
      "execution_count": null,
      "outputs": []
    },
    {
      "cell_type": "code",
      "metadata": {
        "id": "aFjN5De_jCKK"
      },
      "source": [
        "''' Treinar modelo a partir de parâmetros especificados'''\n",
        "def train_model(X, y, model, epochs, batch_size):\n",
        "  h = model.fit(X, y, validation_split=0.2,\n",
        "               epochs=epochs,\n",
        "               batch_size=batch_size,\n",
        "               verbose=1)\n",
        "  pp.figure(figsize=(15,2.5))\n",
        "  pp.plot(h.history['loss'])\n",
        "  pp.title('Training loss wrt time')\n",
        "  return model"
      ],
      "execution_count": null,
      "outputs": []
    },
    {
      "cell_type": "code",
      "metadata": {
        "id": "RXLdVodqvWa7"
      },
      "source": [
        "''' Fazer a previsão de valores a partir de rede treinada e comparar valores com o esperado'''\n",
        "def predict_model(X):\n",
        "  prediction = model.predict(X)\n",
        "  print(\"Valores: \\n\", y_test[:]/prediction*100)\n",
        "  print(\"Média\", np.mean(y_test[:]/prediction*100, axis=0))\n",
        "  print(\"Desvio\", np.std(y_test[:]/prediction*100, axis=0))\n"
      ],
      "execution_count": null,
      "outputs": []
    },
    {
      "cell_type": "code",
      "metadata": {
        "id": "8qPskqFwkYKg"
      },
      "source": [
        "'''Gerar modelo'''\n",
        "model = get_model()"
      ],
      "execution_count": null,
      "outputs": []
    },
    {
      "cell_type": "code",
      "metadata": {
        "id": "tot6ROXTHvGa"
      },
      "source": [
        "'''Treinar modelo'''\n",
        "model = train_model(x_train, y_train, model, epochs, batch_size)"
      ],
      "execution_count": null,
      "outputs": []
    },
    {
      "cell_type": "code",
      "metadata": {
        "id": "Gqvi4wFtH8u1",
        "colab": {
          "base_uri": "https://localhost:8080/"
        },
        "outputId": "f80cd735-23c7-429d-af2f-243912c3805d"
      },
      "source": [
        "'''Avaliar modelo'''\n",
        "predict_model(x_test)"
      ],
      "execution_count": null,
      "outputs": [
        {
          "output_type": "stream",
          "name": "stdout",
          "text": [
            "Valores: \n",
            " [[ 100.61369546   99.44663406]\n",
            " [ 100.51609019   99.35811872]\n",
            " [ 100.42155921   99.09838831]\n",
            " [ 100.70057334   53.78297549]\n",
            " [ 100.83071165   99.6673481 ]\n",
            " [ 100.59097109   99.4516405 ]\n",
            " [ 100.44758937   99.28484329]\n",
            " [ 100.68750677   73.94474614]\n",
            " [ 101.44560764  100.12192673]\n",
            " [  98.83745375  100.23313185]\n",
            " [ 100.52417967   99.46648809]\n",
            " [ 100.49167449   92.09969642]\n",
            " [ 100.3693418    98.77117221]\n",
            " [ 104.21989637   99.27976924]\n",
            " [ 108.01430107  101.22302251]\n",
            " [ 100.66378925   94.06020495]\n",
            " [  37.74635061  100.76139124]\n",
            " [  97.08666571   99.46094876]\n",
            " [ 234.47124154   99.56731332]\n",
            " [-707.26525794   71.57477189]]\n",
            "Média [64.07069705 94.03272659]\n",
            "Desvio [179.98819612  12.27966195]\n"
          ]
        }
      ]
    }
  ]
}